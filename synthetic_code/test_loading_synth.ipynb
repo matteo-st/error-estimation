{
 "cells": [
  {
   "cell_type": "code",
   "execution_count": 11,
   "id": "924665b9",
   "metadata": {},
   "outputs": [],
   "source": [
    "import os\n",
    "import json\n",
    "import numpy as np"
   ]
  },
  {
   "cell_type": "code",
   "execution_count": 6,
   "id": "f4541c57",
   "metadata": {},
   "outputs": [],
   "source": [
    "checkpoint_dir = os.path.join(\"../checkpoints/ce\", \n",
    "                                        f\"resnet34_synth_dim-3072_classes-10\")\n",
    "config_model_path = os.path.join(checkpoint_dir, \"config.json\")\n",
    "\n",
    "if not os.path.exists(config_model_path):\n",
    "    raise FileNotFoundError(f\"Configuration file not found at {config_model_path}\")\n",
    "# Load the configuration file\n",
    "with open(config_model_path, \"r\") as f:\n",
    "    config_model = json.load(f)\n",
    "\n"
   ]
  },
  {
   "cell_type": "code",
   "execution_count": 33,
   "id": "fe559736",
   "metadata": {},
   "outputs": [],
   "source": [
    "means = config_model[\"data\"][\"means\"]\n",
    "np.savez(os.path.join(checkpoint_dir, \"means.npz\"), means)"
   ]
  },
  {
   "cell_type": "code",
   "execution_count": 34,
   "id": "1cebb9fa",
   "metadata": {},
   "outputs": [
    {
     "data": {
      "text/plain": [
       "list"
      ]
     },
     "execution_count": 34,
     "metadata": {},
     "output_type": "execute_result"
    }
   ],
   "source": [
    "type(means)"
   ]
  },
  {
   "cell_type": "code",
   "execution_count": 35,
   "id": "827d3e2e",
   "metadata": {},
   "outputs": [],
   "source": [
    "covs = config_model[\"data\"][\"covs\"]\n",
    "np.savez(os.path.join(checkpoint_dir, \"covs.npz\"), covs)"
   ]
  },
  {
   "cell_type": "code",
   "execution_count": 54,
   "id": "e94491b5",
   "metadata": {},
   "outputs": [
    {
     "name": "stdout",
     "output_type": "stream",
     "text": [
      "(10,)\n"
     ]
    }
   ],
   "source": [
    "weights = config_model[\"data\"][\"weights\"]\n",
    "print(np.shape(weights))\n",
    "np.savez(os.path.join(checkpoint_dir, \"weights.npz\"), weights)"
   ]
  },
  {
   "cell_type": "code",
   "execution_count": 56,
   "id": "62c13183",
   "metadata": {},
   "outputs": [
    {
     "name": "stdout",
     "output_type": "stream",
     "text": [
      "Means shape: (10, 3072)\n",
      "Covs shape: (10, 3072, 3072)\n",
      "Weights shape: (10,)\n",
      "Time taken to load data parameters: 0.64 seconds\n",
      "Means shape: (10, 3072)\n",
      "Covs shape: (10, 3072, 3072)\n",
      "Weights shape: (10,)\n"
     ]
    }
   ],
   "source": [
    "# np.savez(os.path.join(checkpoint_dir, \"data_parameters.npz\"), \n",
    "#          means=means,\n",
    "#          covs=covs,\n",
    "#          weights=weights)\n",
    "t0 = time.time()\n",
    "data_parameters = np.load(os.path.join(checkpoint_dir, \"data_parameters.npz\"))\n",
    "means = data_parameters[\"means\"]\n",
    "covs = data_parameters[\"covs\"]\n",
    "weights = data_parameters[\"weights\"]\n",
    "print(f\"Means shape: {means.shape}\")\n",
    "print(f\"Covs shape: {np.shape(covs)}\")\n",
    "print(f\"Weights shape: {weights.shape}\")\n",
    "t1 = time.time()\n",
    "print(f\"Time taken to load data parameters: {t1 - t0:.2f} seconds\")\n",
    "print(f\"Means shape: {means.shape}\")\n",
    "print(f\"Covs shape: {covs.shape}\")\n",
    "print(f\"Weights shape: {weights.shape}\")"
   ]
  },
  {
   "cell_type": "code",
   "execution_count": null,
   "id": "f87bed6e",
   "metadata": {},
   "outputs": [
    {
     "data": {
      "text/plain": [
       "10"
      ]
     },
     "execution_count": 29,
     "metadata": {},
     "output_type": "execute_result"
    }
   ],
   "source": []
  },
  {
   "cell_type": "code",
   "execution_count": 50,
   "id": "b8f18a4f",
   "metadata": {},
   "outputs": [
    {
     "name": "stdout",
     "output_type": "stream",
     "text": [
      "Download time: 1.43 seconds\n"
     ]
    }
   ],
   "source": [
    "# I want to compute the download time\n",
    "import time\n",
    "\n",
    "t0 = time.time()\n",
    "means = np.load(os.path.join(checkpoint_dir, \"means.npz\"))\n",
    "means = means[\"arr_0\"]\n",
    "means.shape\n",
    "covs = np.load(os.path.join(checkpoint_dir, \"covs.npz\"))[\"arr_0\"]\n",
    "weights = np.load(os.path.join(checkpoint_dir, \"weights.npz\"))['arr_0']\n",
    "t1 = time.time()\n",
    "download_time = t1 - t0\n",
    "print(f\"Download time: {download_time:.2f} seconds\")"
   ]
  },
  {
   "cell_type": "code",
   "execution_count": 47,
   "id": "2546d55b",
   "metadata": {},
   "outputs": [
    {
     "name": "stdout",
     "output_type": "stream",
     "text": [
      "True\n",
      "True\n",
      "True\n",
      "True\n",
      "True\n",
      "True\n",
      "True\n",
      "True\n",
      "True\n",
      "True\n"
     ]
    }
   ],
   "source": [
    "covs\n",
    "def check_symmetric(a, rtol=1e-05, atol=1e-08):\n",
    "    return np.allclose(a, a.T, rtol=rtol, atol=atol)\n",
    "\n",
    "for i in range(10):\n",
    "    print(check_symmetric(covs[i]))\n"
   ]
  }
 ],
 "metadata": {
  "kernelspec": {
   "display_name": "myenv",
   "language": "python",
   "name": "python3"
  },
  "language_info": {
   "codemirror_mode": {
    "name": "ipython",
    "version": 3
   },
   "file_extension": ".py",
   "mimetype": "text/x-python",
   "name": "python",
   "nbconvert_exporter": "python",
   "pygments_lexer": "ipython3",
   "version": "3.11.2"
  }
 },
 "nbformat": 4,
 "nbformat_minor": 5
}
