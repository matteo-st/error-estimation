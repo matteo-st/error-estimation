{
 "cells": [
  {
   "cell_type": "code",
   "execution_count": 2,
   "id": "8a598428",
   "metadata": {},
   "outputs": [],
   "source": [
    "import json\n",
    "import os\n",
    "import pandas as pd\n",
    "import numpy as np\n",
    "from tqdm import tqdm"
   ]
  },
  {
   "cell_type": "code",
   "execution_count": 6,
   "id": "3fc57ad9",
   "metadata": {},
   "outputs": [
    {
     "name": "stderr",
     "output_type": "stream",
     "text": [
      "Processing experiment directories: 100%|██████████| 4819/4819 [01:33<00:00, 51.44it/s]\n"
     ]
    }
   ],
   "source": [
    "results_dir = \"../../synth_results/asymp_exp copy\"\n",
    "\n",
    "experiment_dirs = [\n",
    "    os.path.join(results_dir, d)\n",
    "    for d in os.listdir(results_dir)\n",
    "    if os.path.isdir(os.path.join(results_dir, d)) and d.startswith(\"experiment_\")\n",
    "]\n",
    "\n",
    "for exp_dir in tqdm(experiment_dirs, desc=\"Processing experiment directories\"):\n",
    "\n",
    "    config_path = os.path.join(exp_dir, \"config.json\")\n",
    "    if not os.path.exists(config_path):\n",
    "        print(f\"Config file not found in {exp_dir}. Skipping...\")\n",
    "        continue\n",
    "    \n",
    "    with open(config_path, \"r\") as f:\n",
    "        config = json.load(f)\n",
    "    ng = config.get(\"normalize_gini\")\n",
    "    n  = config.get(\"normalize\")\n",
    "\n",
    "    # decide what the new normalize_gini should be\n",
    "    if ng is None and n is None:\n",
    "        new_ng = None\n",
    "    elif ng is not None and n is None:\n",
    "        new_ng = ng\n",
    "    elif ng is None and n is not None:\n",
    "        new_ng = n\n",
    "    else:\n",
    "        # this “shouldn’t” happen, but we’ll record it so you can spot it\n",
    "        new_ng = f\"ERROR: both normalize_gini={ng!r} and normalize={n!r} present\"\n",
    "\n",
    "    new_config = {\n",
    "        \"data\": {\n",
    "            \"n_samples_train\": config.get(\"n_samples_train\", None),\n",
    "            \"n_samples_test\":  config.get(\"n_samples_test\",  None),\n",
    "            \"batch_size_train\": config.get(\"batch_size_train\", None),\n",
    "            \"batch_size_test\":  config.get(\"batch_size_test\",  None),\n",
    "            \"seed_train\":       config.get(\"seed_train\",       None),\n",
    "            \"seed_test\":        config.get(\"seed_test\",        None)\n",
    "        },\n",
    "        \"clustering\": {\n",
    "            \"name\":        config.get(\"method\",            None),\n",
    "            \"n_clusters\":  config.get(\"n_clusters\",        None),\n",
    "            \"seed\":        config.get(\"kmeans_seed\",       None),\n",
    "            \"init_scheme\": config.get(\"init_scheme\",       None),\n",
    "            \"space\":       config.get(\"partionning_space\", None),\n",
    "            \"cov_type\":    config.get(\"cov_type\",          None),\n",
    "            \"temperature\": config.get(\"temperature\",       None), \n",
    "            \"normalize_gini\": new_ng,\n",
    "        },\n",
    "        \"experiment\": {\n",
    "            \"datetime\": config.get(\"experiment_datetime\", None),\n",
    "            \"folder\":   config.get(\"experiment_folder\",   None)\n",
    "        }\n",
    "    }\n",
    "    backup_path = os.path.join(exp_dir, \"config.json.bak\")\n",
    "    try:\n",
    "        os.replace(config_path, backup_path)\n",
    "        with open(config_path, \"w\") as f:\n",
    "            json.dump(new_config, f, indent=4)\n",
    "    except Exception as e:\n",
    "        print(f\"Failed to update {config_path}: {e}\")\n",
    "        continue\n",
    "    "
   ]
  },
  {
   "cell_type": "code",
   "execution_count": null,
   "id": "bc6a0d06",
   "metadata": {},
   "outputs": [],
   "source": []
  }
 ],
 "metadata": {
  "kernelspec": {
   "display_name": "myenv",
   "language": "python",
   "name": "python3"
  },
  "language_info": {
   "codemirror_mode": {
    "name": "ipython",
    "version": 3
   },
   "file_extension": ".py",
   "mimetype": "text/x-python",
   "name": "python",
   "nbconvert_exporter": "python",
   "pygments_lexer": "ipython3",
   "version": "3.11.2"
  }
 },
 "nbformat": 4,
 "nbformat_minor": 5
}
